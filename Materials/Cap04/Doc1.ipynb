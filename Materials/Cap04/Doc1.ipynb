{
 "cells": [
  {
   "cell_type": "markdown",
   "id": "24b64107",
   "metadata": {},
   "source": [
    "# Leitura de arquivos"
   ]
  },
  {
   "cell_type": "code",
   "execution_count": 1,
   "id": "62f107e2",
   "metadata": {},
   "outputs": [],
   "source": [
    "# Abrindo arquivo para leitura\n",
    "\n",
    "import codecs\n",
    "arq1 = codecs.open(\"Files/arquivo1.txt\", \"r\", encoding=\"utf-8\")"
   ]
  },
  {
   "cell_type": "code",
   "execution_count": 2,
   "id": "9ca21c3e",
   "metadata": {},
   "outputs": [
    {
     "name": "stdout",
     "output_type": "stream",
     "text": [
      "Python é uma linguagem poderosa!\n"
     ]
    }
   ],
   "source": [
    "# Lendo o arquivo\n",
    "\n",
    "print(arq1.read())"
   ]
  },
  {
   "cell_type": "code",
   "execution_count": 3,
   "id": "4bd840df",
   "metadata": {},
   "outputs": [
    {
     "name": "stdout",
     "output_type": "stream",
     "text": [
      "33\n"
     ]
    }
   ],
   "source": [
    "# Contar o número de caracteres\n",
    "\n",
    "print(arq1.tell())"
   ]
  },
  {
   "cell_type": "code",
   "execution_count": 4,
   "id": "00d79ebf",
   "metadata": {},
   "outputs": [
    {
     "name": "stdout",
     "output_type": "stream",
     "text": [
      "None\n"
     ]
    }
   ],
   "source": [
    "# Retorna para o início do arquivo\n",
    "\n",
    "print(arq1.seek(0))"
   ]
  },
  {
   "cell_type": "code",
   "execution_count": 5,
   "id": "bf1207a0",
   "metadata": {},
   "outputs": [
    {
     "name": "stdout",
     "output_type": "stream",
     "text": [
      "Python é u\n"
     ]
    }
   ],
   "source": [
    "# Ler os 10 primeiros caracteres (a partir de onde estiver o cursor)\n",
    "\n",
    "print(arq1.read(10))"
   ]
  },
  {
   "cell_type": "markdown",
   "id": "ef5fe2d9",
   "metadata": {},
   "source": [
    "# Gravação de arquivos"
   ]
  },
  {
   "cell_type": "code",
   "execution_count": 6,
   "id": "1cd1c2e9",
   "metadata": {},
   "outputs": [],
   "source": [
    "# Abrindo arquivo para gravação\n",
    "\n",
    "arq2 = open(\"Files/arquivo2.txt\", \"w\", encoding=\"utf-8\")"
   ]
  },
  {
   "cell_type": "code",
   "execution_count": 7,
   "id": "a3719dbc",
   "metadata": {},
   "outputs": [
    {
     "data": {
      "text/plain": [
       "41"
      ]
     },
     "execution_count": 7,
     "metadata": {},
     "output_type": "execute_result"
    }
   ],
   "source": [
    "# Grava no arquivo\n",
    "\n",
    "arq2.write(\"Testando a gravação de arquivos em Python\")"
   ]
  },
  {
   "cell_type": "code",
   "execution_count": 8,
   "id": "ca5745a2",
   "metadata": {},
   "outputs": [],
   "source": [
    "# Fecha o acesso ao arquivo\n",
    "\n",
    "arq2.close()"
   ]
  },
  {
   "cell_type": "code",
   "execution_count": 9,
   "id": "560b9caa",
   "metadata": {},
   "outputs": [],
   "source": [
    "# Acrescenta conteúdo no arquivo\n",
    "\n",
    "arq2 = open(\"Files/arquivo2.txt\", \"a\", encoding=\"utf-8\")"
   ]
  },
  {
   "cell_type": "code",
   "execution_count": 10,
   "id": "07dbbd7d",
   "metadata": {},
   "outputs": [
    {
     "data": {
      "text/plain": [
       "25"
      ]
     },
     "execution_count": 10,
     "metadata": {},
     "output_type": "execute_result"
    }
   ],
   "source": [
    "arq2.write(\" e acrescentando conteúdo\")"
   ]
  },
  {
   "cell_type": "code",
   "execution_count": 11,
   "id": "89463eee",
   "metadata": {},
   "outputs": [],
   "source": [
    "arq2.close()"
   ]
  },
  {
   "cell_type": "code",
   "execution_count": 12,
   "id": "b20f6cce",
   "metadata": {},
   "outputs": [],
   "source": [
    "arq2 = open(\"Files/arquivo2.txt\", \"r\", encoding=\"utf-8\")"
   ]
  },
  {
   "cell_type": "code",
   "execution_count": 13,
   "id": "92c3f1a0",
   "metadata": {},
   "outputs": [
    {
     "name": "stdout",
     "output_type": "stream",
     "text": [
      "Testando a gravação de arquivos em Python e acrescentando conteúdo\n"
     ]
    }
   ],
   "source": [
    "print(arq2.read())"
   ]
  },
  {
   "cell_type": "markdown",
   "id": "9ab19880",
   "metadata": {},
   "source": [
    "# Automatizando o processo de gravação"
   ]
  },
  {
   "cell_type": "code",
   "execution_count": 14,
   "id": "84322352",
   "metadata": {},
   "outputs": [
    {
     "name": "stdout",
     "output_type": "stream",
     "text": [
      "Digite o nome do arquivo: arquivo3\n"
     ]
    }
   ],
   "source": [
    "filename = input(\"Digite o nome do arquivo: \")"
   ]
  },
  {
   "cell_type": "code",
   "execution_count": 15,
   "id": "0ca365d0",
   "metadata": {},
   "outputs": [],
   "source": [
    "filename = filename + \".txt\""
   ]
  },
  {
   "cell_type": "code",
   "execution_count": 16,
   "id": "f5d84a4b",
   "metadata": {},
   "outputs": [],
   "source": [
    "arq3 = open(f\"Files/{filename}\", \"w\")"
   ]
  },
  {
   "cell_type": "code",
   "execution_count": 17,
   "id": "39dd3acb",
   "metadata": {},
   "outputs": [
    {
     "data": {
      "text/plain": [
       "33"
      ]
     },
     "execution_count": 17,
     "metadata": {},
     "output_type": "execute_result"
    }
   ],
   "source": [
    "arq3.write(\"Incluindo texto no arquivo criado\")"
   ]
  },
  {
   "cell_type": "code",
   "execution_count": 18,
   "id": "b0f6a103",
   "metadata": {},
   "outputs": [],
   "source": [
    "arq3.close()"
   ]
  },
  {
   "cell_type": "code",
   "execution_count": 19,
   "id": "e546bfad",
   "metadata": {},
   "outputs": [],
   "source": [
    "arq3 = open(f\"Files/{filename}\", \"r\")"
   ]
  },
  {
   "cell_type": "code",
   "execution_count": 20,
   "id": "84513be4",
   "metadata": {},
   "outputs": [
    {
     "name": "stdout",
     "output_type": "stream",
     "text": [
      "Incluindo texto no arquivo criado\n"
     ]
    }
   ],
   "source": [
    "print(arq3.read())"
   ]
  },
  {
   "cell_type": "code",
   "execution_count": 21,
   "id": "afa8ce5a",
   "metadata": {},
   "outputs": [],
   "source": [
    "arq3.close()"
   ]
  },
  {
   "cell_type": "markdown",
   "id": "08877557",
   "metadata": {},
   "source": [
    "# Abrindo um Datasets em uma unica linha"
   ]
  },
  {
   "cell_type": "code",
   "execution_count": 22,
   "id": "2ae366e6",
   "metadata": {},
   "outputs": [],
   "source": [
    "f = open('Files/salarios.csv', 'r')"
   ]
  },
  {
   "cell_type": "code",
   "execution_count": 23,
   "id": "de0ffea2",
   "metadata": {},
   "outputs": [],
   "source": [
    "df = f.read()"
   ]
  },
  {
   "cell_type": "code",
   "execution_count": 24,
   "id": "0fd3f8fa",
   "metadata": {},
   "outputs": [],
   "source": [
    "rows = df.split('\\n')"
   ]
  },
  {
   "cell_type": "code",
   "execution_count": 25,
   "id": "e5b3d8f9",
   "metadata": {},
   "outputs": [],
   "source": [
    "# print(rows)"
   ]
  },
  {
   "cell_type": "markdown",
   "id": "52aacb9f",
   "metadata": {},
   "source": [
    "# Dividindo um Dataset em colunas"
   ]
  },
  {
   "cell_type": "code",
   "execution_count": 26,
   "id": "f103ef04",
   "metadata": {},
   "outputs": [],
   "source": [
    "full_df = []"
   ]
  },
  {
   "cell_type": "code",
   "execution_count": 27,
   "id": "c4f69d9f",
   "metadata": {},
   "outputs": [],
   "source": [
    "for row in rows:\n",
    "    split_row = row.split(',')\n",
    "    full_df.append(split_row)"
   ]
  },
  {
   "cell_type": "code",
   "execution_count": 28,
   "id": "c645b653",
   "metadata": {},
   "outputs": [],
   "source": [
    "# print(full_df)"
   ]
  },
  {
   "cell_type": "markdown",
   "id": "f78a5019",
   "metadata": {},
   "source": [
    "# Importando um Dataset com Pandas"
   ]
  },
  {
   "cell_type": "code",
   "execution_count": 29,
   "id": "532bbd95",
   "metadata": {},
   "outputs": [],
   "source": [
    "import pandas as pd"
   ]
  },
  {
   "cell_type": "code",
   "execution_count": 30,
   "id": "2f97109e",
   "metadata": {},
   "outputs": [],
   "source": [
    "file_name = \"Files/salarios.csv\" "
   ]
  },
  {
   "cell_type": "code",
   "execution_count": 31,
   "id": "2cd3b94c",
   "metadata": {},
   "outputs": [],
   "source": [
    "df = pd.read_csv(file_name)"
   ]
  },
  {
   "cell_type": "code",
   "execution_count": 32,
   "id": "4c2f6f94",
   "metadata": {},
   "outputs": [
    {
     "data": {
      "text/html": [
       "<div>\n",
       "<style scoped>\n",
       "    .dataframe tbody tr th:only-of-type {\n",
       "        vertical-align: middle;\n",
       "    }\n",
       "\n",
       "    .dataframe tbody tr th {\n",
       "        vertical-align: top;\n",
       "    }\n",
       "\n",
       "    .dataframe thead th {\n",
       "        text-align: right;\n",
       "    }\n",
       "</style>\n",
       "<table border=\"1\" class=\"dataframe\">\n",
       "  <thead>\n",
       "    <tr style=\"text-align: right;\">\n",
       "      <th></th>\n",
       "      <th>Name</th>\n",
       "      <th>Position Title</th>\n",
       "      <th>Department</th>\n",
       "      <th>Employee Annual Salary</th>\n",
       "    </tr>\n",
       "  </thead>\n",
       "  <tbody>\n",
       "    <tr>\n",
       "      <th>0</th>\n",
       "      <td>AARON,  ELVIA J</td>\n",
       "      <td>WATER RATE TAKER</td>\n",
       "      <td>WATER MGMNT</td>\n",
       "      <td>$88967.00</td>\n",
       "    </tr>\n",
       "    <tr>\n",
       "      <th>1</th>\n",
       "      <td>AARON,  JEFFERY M</td>\n",
       "      <td>POLICE OFFICER</td>\n",
       "      <td>POLICE</td>\n",
       "      <td>$80778.00</td>\n",
       "    </tr>\n",
       "    <tr>\n",
       "      <th>2</th>\n",
       "      <td>AARON,  KARINA</td>\n",
       "      <td>POLICE OFFICER</td>\n",
       "      <td>POLICE</td>\n",
       "      <td>$80778.00</td>\n",
       "    </tr>\n",
       "    <tr>\n",
       "      <th>3</th>\n",
       "      <td>AARON,  KIMBERLEI R</td>\n",
       "      <td>CHIEF CONTRACT EXPEDITER</td>\n",
       "      <td>GENERAL SERVICES</td>\n",
       "      <td>$84780.00</td>\n",
       "    </tr>\n",
       "    <tr>\n",
       "      <th>4</th>\n",
       "      <td>ABAD JR,  VICENTE M</td>\n",
       "      <td>CIVIL ENGINEER IV</td>\n",
       "      <td>WATER MGMNT</td>\n",
       "      <td>$104736.00</td>\n",
       "    </tr>\n",
       "  </tbody>\n",
       "</table>\n",
       "</div>"
      ],
      "text/plain": [
       "                  Name            Position Title        Department  \\\n",
       "0      AARON,  ELVIA J          WATER RATE TAKER       WATER MGMNT   \n",
       "1    AARON,  JEFFERY M            POLICE OFFICER            POLICE   \n",
       "2       AARON,  KARINA            POLICE OFFICER            POLICE   \n",
       "3  AARON,  KIMBERLEI R  CHIEF CONTRACT EXPEDITER  GENERAL SERVICES   \n",
       "4  ABAD JR,  VICENTE M         CIVIL ENGINEER IV       WATER MGMNT   \n",
       "\n",
       "  Employee Annual Salary  \n",
       "0              $88967.00  \n",
       "1              $80778.00  \n",
       "2              $80778.00  \n",
       "3              $84780.00  \n",
       "4             $104736.00  "
      ]
     },
     "execution_count": 32,
     "metadata": {},
     "output_type": "execute_result"
    }
   ],
   "source": [
    "df.head()"
   ]
  }
 ],
 "metadata": {
  "kernelspec": {
   "display_name": "Python 3 (ipykernel)",
   "language": "python",
   "name": "python3"
  },
  "language_info": {
   "codemirror_mode": {
    "name": "ipython",
    "version": 3
   },
   "file_extension": ".py",
   "mimetype": "text/x-python",
   "name": "python",
   "nbconvert_exporter": "python",
   "pygments_lexer": "ipython3",
   "version": "3.9.12"
  }
 },
 "nbformat": 4,
 "nbformat_minor": 5
}
