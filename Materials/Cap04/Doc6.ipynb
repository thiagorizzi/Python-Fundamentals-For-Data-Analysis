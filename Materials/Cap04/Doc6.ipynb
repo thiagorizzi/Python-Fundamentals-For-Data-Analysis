{
 "cells": [
  {
   "cell_type": "markdown",
   "id": "216defcd",
   "metadata": {},
   "source": [
    "# Try / Except / Finally"
   ]
  },
  {
   "cell_type": "code",
   "execution_count": 1,
   "id": "82528ee0",
   "metadata": {},
   "outputs": [
    {
     "ename": "TypeError",
     "evalue": "unsupported operand type(s) for +: 'int' and 'str'",
     "output_type": "error",
     "traceback": [
      "\u001b[1;31m---------------------------------------------------------------------------\u001b[0m",
      "\u001b[1;31mTypeError\u001b[0m                                 Traceback (most recent call last)",
      "Input \u001b[1;32mIn [1]\u001b[0m, in \u001b[0;36m<cell line: 1>\u001b[1;34m()\u001b[0m\n\u001b[1;32m----> 1\u001b[0m \u001b[38;5;241;43m8\u001b[39;49m\u001b[43m \u001b[49m\u001b[38;5;241;43m+\u001b[39;49m\u001b[43m \u001b[49m\u001b[38;5;124;43m'\u001b[39;49m\u001b[38;5;124;43ms\u001b[39;49m\u001b[38;5;124;43m'\u001b[39;49m\n",
      "\u001b[1;31mTypeError\u001b[0m: unsupported operand type(s) for +: 'int' and 'str'"
     ]
    }
   ],
   "source": [
    "8 + 's'"
   ]
  },
  {
   "cell_type": "code",
   "execution_count": 2,
   "id": "c81cccd1",
   "metadata": {},
   "outputs": [
    {
     "name": "stdout",
     "output_type": "stream",
     "text": [
      "Operação não permitida!\n"
     ]
    }
   ],
   "source": [
    "# Using try and except\n",
    "try:\n",
    "    8 + 's'\n",
    "except TypeError:\n",
    "    print(\"Operação não permitida!\")"
   ]
  },
  {
   "cell_type": "code",
   "execution_count": 3,
   "id": "fadceb93",
   "metadata": {},
   "outputs": [
    {
     "name": "stdout",
     "output_type": "stream",
     "text": [
      "Conteúdo gravado com sucesso!\n"
     ]
    }
   ],
   "source": [
    "# Using try, except and else\n",
    "try:\n",
    "    f = open('Files/testandoErros.txt', 'w')\n",
    "    f.write('Gravando no arquivo')\n",
    "except IOError:\n",
    "        print(\"Arquivo não encontrado ou não pôde ser salvo!\")\n",
    "else:\n",
    "    print(\"Conteúdo gravado com sucesso!\")\n",
    "    f.close()"
   ]
  },
  {
   "cell_type": "code",
   "execution_count": 4,
   "id": "bb768264",
   "metadata": {},
   "outputs": [
    {
     "name": "stdout",
     "output_type": "stream",
     "text": [
      "Arquivo não encontrado ou não pôde ser lido!\n"
     ]
    }
   ],
   "source": [
    "# Using try, except and else\n",
    "try:\n",
    "    f = open('Files/testandoErros', 'r')\n",
    "except IOError:\n",
    "    print(\"Arquivo não encontrado ou não pôde ser lido!\")\n",
    "else:\n",
    "    print(\"Conteúdo lido com sucesso!\")\n",
    "    f.close()"
   ]
  },
  {
   "cell_type": "code",
   "execution_count": 5,
   "id": "b1744739",
   "metadata": {},
   "outputs": [
    {
     "name": "stdout",
     "output_type": "stream",
     "text": [
      "Conteúdo gravado com sucesso!\n",
      "Comandos no bloco finally são sempre executados!\n"
     ]
    }
   ],
   "source": [
    "# Using try, except, else and finally\n",
    "try:\n",
    "    f = open('Files/testandoErros.txt', 'w')\n",
    "    f.write('Gravando no arquivo')\n",
    "except IOError:\n",
    "        print(\"Arquivo não encontrado ou não pôde ser salvo!\")\n",
    "else:\n",
    "    print(\"Conteúdo gravado com sucesso!\")\n",
    "    f.close()\n",
    "finally:\n",
    "    print(\"Comandos no bloco finally são sempre executados!\")"
   ]
  },
  {
   "cell_type": "code",
   "execution_count": 6,
   "id": "355480c7",
   "metadata": {},
   "outputs": [],
   "source": [
    "def askint():\n",
    "    while True:\n",
    "        try:\n",
    "            x = int(input(\"Digite um número: \"))\n",
    "        except:\n",
    "            print(\"Você não digitou um número!\")\n",
    "            continue\n",
    "        else:\n",
    "            print(\"Obrigado por digitar um número!\")\n",
    "            break\n",
    "        finally:\n",
    "            (\"Fim da execução!\")\n",
    "        print(x)"
   ]
  },
  {
   "cell_type": "code",
   "execution_count": 7,
   "id": "0325673b",
   "metadata": {},
   "outputs": [
    {
     "name": "stdout",
     "output_type": "stream",
     "text": [
      "Digite um número: 10\n",
      "Obrigado por digitar um número!\n"
     ]
    }
   ],
   "source": [
    "askint()"
   ]
  },
  {
   "cell_type": "code",
   "execution_count": 8,
   "id": "234605ca",
   "metadata": {},
   "outputs": [
    {
     "name": "stdout",
     "output_type": "stream",
     "text": [
      "Digite um número: \n",
      "Você não digitou um número!\n",
      "Digite um número: \n",
      "Você não digitou um número!\n",
      "Digite um número: 5\n",
      "Obrigado por digitar um número!\n"
     ]
    }
   ],
   "source": [
    "askint()"
   ]
  }
 ],
 "metadata": {
  "kernelspec": {
   "display_name": "Python 3 (ipykernel)",
   "language": "python",
   "name": "python3"
  },
  "language_info": {
   "codemirror_mode": {
    "name": "ipython",
    "version": 3
   },
   "file_extension": ".py",
   "mimetype": "text/x-python",
   "name": "python",
   "nbconvert_exporter": "python",
   "pygments_lexer": "ipython3",
   "version": "3.9.12"
  }
 },
 "nbformat": 4,
 "nbformat_minor": 5
}
