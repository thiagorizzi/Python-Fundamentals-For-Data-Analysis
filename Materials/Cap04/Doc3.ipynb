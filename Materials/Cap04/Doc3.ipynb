{
 "cells": [
  {
   "cell_type": "markdown",
   "id": "61fa0d46",
   "metadata": {},
   "source": [
    "# Map "
   ]
  },
  {
   "cell_type": "code",
   "execution_count": 1,
   "id": "e7cad126",
   "metadata": {},
   "outputs": [],
   "source": [
    "def fahrenheit(temp):\n",
    "    return ((float(9)/5)*temp + 32)\n",
    "\n",
    "def celsius(temp):\n",
    "    return (float(5)/9)*(temp - 32)"
   ]
  },
  {
   "cell_type": "code",
   "execution_count": 2,
   "id": "ca4d051b",
   "metadata": {},
   "outputs": [],
   "source": [
    "temperatures = [0, 24, 40, 100, -5.5]"
   ]
  },
  {
   "cell_type": "code",
   "execution_count": 3,
   "id": "4ec1afcd",
   "metadata": {},
   "outputs": [
    {
     "data": {
      "text/plain": [
       "[32.0, 75.2, 104.0, 212.0, 22.1]"
      ]
     },
     "execution_count": 3,
     "metadata": {},
     "output_type": "execute_result"
    }
   ],
   "source": [
    "list(map(fahrenheit, temperatures))"
   ]
  },
  {
   "cell_type": "code",
   "execution_count": 4,
   "id": "60764a55",
   "metadata": {},
   "outputs": [
    {
     "name": "stdout",
     "output_type": "stream",
     "text": [
      " 32.0\n",
      " 75.2\n",
      " 104.0\n",
      " 212.0\n",
      " 22.1\n"
     ]
    }
   ],
   "source": [
    "for temp in map(fahrenheit, temperatures):\n",
    "    print(f\"{temp: .1f}\")"
   ]
  },
  {
   "cell_type": "code",
   "execution_count": 5,
   "id": "12a9c8f9",
   "metadata": {},
   "outputs": [
    {
     "name": "stdout",
     "output_type": "stream",
     "text": [
      "-17.8\n",
      "-4.4\n",
      " 4.4\n",
      " 37.8\n",
      "-20.8\n"
     ]
    }
   ],
   "source": [
    "for temp in map(celsius, temperatures):\n",
    "    print(f\"{temp: .1f}\")"
   ]
  },
  {
   "cell_type": "code",
   "execution_count": 6,
   "id": "504d3e23",
   "metadata": {},
   "outputs": [
    {
     "data": {
      "text/plain": [
       "[-17.77777777777778,\n",
       " -4.444444444444445,\n",
       " 4.444444444444445,\n",
       " 37.77777777777778,\n",
       " -20.833333333333336]"
      ]
     },
     "execution_count": 6,
     "metadata": {},
     "output_type": "execute_result"
    }
   ],
   "source": [
    "# Using Lambda\n",
    "\n",
    "list(map(lambda x: (5.0/9)*(x-32), temperatures))"
   ]
  },
  {
   "cell_type": "code",
   "execution_count": 7,
   "id": "ead8bc03",
   "metadata": {},
   "outputs": [
    {
     "data": {
      "text/plain": [
       "[6, 8, 10, 12]"
      ]
     },
     "execution_count": 7,
     "metadata": {},
     "output_type": "execute_result"
    }
   ],
   "source": [
    "a = [1, 2, 3, 4]\n",
    "b = [5, 6, 7, 8]\n",
    "\n",
    "list(map(lambda x,y: x+y, a, b))"
   ]
  },
  {
   "cell_type": "markdown",
   "id": "e628e99e",
   "metadata": {},
   "source": [
    "# Reduce"
   ]
  },
  {
   "cell_type": "code",
   "execution_count": 8,
   "id": "f66f0410",
   "metadata": {},
   "outputs": [],
   "source": [
    "from functools import reduce"
   ]
  },
  {
   "cell_type": "code",
   "execution_count": 9,
   "id": "3ab40bc9",
   "metadata": {},
   "outputs": [],
   "source": [
    "elements = [47, 11, 42, 13]"
   ]
  },
  {
   "cell_type": "code",
   "execution_count": 10,
   "id": "86ccb9a3",
   "metadata": {},
   "outputs": [],
   "source": [
    "def sum(a, b):\n",
    "    return a + b"
   ]
  },
  {
   "cell_type": "code",
   "execution_count": 11,
   "id": "a9fd4b6e",
   "metadata": {},
   "outputs": [
    {
     "data": {
      "text/plain": [
       "113"
      ]
     },
     "execution_count": 11,
     "metadata": {},
     "output_type": "execute_result"
    }
   ],
   "source": [
    "reduce(sum, elements)"
   ]
  },
  {
   "cell_type": "code",
   "execution_count": 12,
   "id": "9fee03ac",
   "metadata": {},
   "outputs": [
    {
     "data": {
      "text/plain": [
       "113"
      ]
     },
     "execution_count": 12,
     "metadata": {},
     "output_type": "execute_result"
    }
   ],
   "source": [
    "reduce(lambda a,b: a+b, elements)"
   ]
  },
  {
   "cell_type": "code",
   "execution_count": 13,
   "id": "1a9408fc",
   "metadata": {},
   "outputs": [
    {
     "data": {
      "text/plain": [
       "47"
      ]
     },
     "execution_count": 13,
     "metadata": {},
     "output_type": "execute_result"
    }
   ],
   "source": [
    "# Findind the biggest value in a list through reduce and lambda\n",
    "\n",
    "reduce(lambda a,b: a if (a > b) else b, elements)"
   ]
  }
 ],
 "metadata": {
  "kernelspec": {
   "display_name": "Python 3 (ipykernel)",
   "language": "python",
   "name": "python3"
  },
  "language_info": {
   "codemirror_mode": {
    "name": "ipython",
    "version": 3
   },
   "file_extension": ".py",
   "mimetype": "text/x-python",
   "name": "python",
   "nbconvert_exporter": "python",
   "pygments_lexer": "ipython3",
   "version": "3.9.12"
  }
 },
 "nbformat": 4,
 "nbformat_minor": 5
}
