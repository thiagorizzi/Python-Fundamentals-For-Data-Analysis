{
 "cells": [
  {
   "cell_type": "markdown",
   "id": "d22721d4",
   "metadata": {},
   "source": [
    "# Manipulando arquivos TXT"
   ]
  },
  {
   "cell_type": "code",
   "execution_count": 1,
   "id": "23717f02",
   "metadata": {},
   "outputs": [],
   "source": [
    "texto = \"Cientista de dados é uma profissão que tem crescido muito.\"\n",
    "texto += \"Esses profissionais precisam se especializar em programação, estatística e machine learning.\""
   ]
  },
  {
   "cell_type": "code",
   "execution_count": 2,
   "id": "f0516260",
   "metadata": {},
   "outputs": [
    {
     "name": "stdout",
     "output_type": "stream",
     "text": [
      "Cientista de dados é uma profissão que tem crescido muito.Esses profissionais precisam se especializar em programação, estatística e machine learning.\n"
     ]
    }
   ],
   "source": [
    "print(texto)"
   ]
  },
  {
   "cell_type": "code",
   "execution_count": 3,
   "id": "0bf71fc9",
   "metadata": {},
   "outputs": [],
   "source": [
    "import os\n",
    "\n",
    "arq = open(os.path.join('Files/cientista.txt'), 'w')"
   ]
  },
  {
   "cell_type": "code",
   "execution_count": 4,
   "id": "afb5822b",
   "metadata": {},
   "outputs": [],
   "source": [
    "for palavra in texto.split():\n",
    "    arq.write(palavra+' ')"
   ]
  },
  {
   "cell_type": "code",
   "execution_count": 5,
   "id": "79c4fe33",
   "metadata": {},
   "outputs": [],
   "source": [
    "arq.close()"
   ]
  },
  {
   "cell_type": "markdown",
   "id": "7e77098c",
   "metadata": {},
   "source": [
    "# Usando a expressão WITH"
   ]
  },
  {
   "cell_type": "code",
   "execution_count": 6,
   "id": "3e9284fa",
   "metadata": {},
   "outputs": [],
   "source": [
    "# O método close() é executado automáticamente\n",
    "\n",
    "with open('Files/cientista.txt', 'r') as arq:\n",
    "    conteudo = arq.read()\n"
   ]
  },
  {
   "cell_type": "code",
   "execution_count": 7,
   "id": "ac4f46b5",
   "metadata": {},
   "outputs": [
    {
     "name": "stdout",
     "output_type": "stream",
     "text": [
      "151\n"
     ]
    }
   ],
   "source": [
    "print(len(conteudo))"
   ]
  },
  {
   "cell_type": "code",
   "execution_count": 8,
   "id": "ba69838b",
   "metadata": {},
   "outputs": [
    {
     "name": "stdout",
     "output_type": "stream",
     "text": [
      "Cientista de dados é uma profissão que tem crescido muito.Esses profissionais precisam se especializar em programação, estatística e machine learning. \n"
     ]
    }
   ],
   "source": [
    "print(conteudo)"
   ]
  },
  {
   "cell_type": "code",
   "execution_count": 9,
   "id": "64d5dc16",
   "metadata": {},
   "outputs": [],
   "source": [
    "with open('Files/cientista.txt', 'w') as arq:\n",
    "    arq.write(texto[0:58])\n",
    "    arq.write('\\n')\n",
    "    arq.write(texto[58:])"
   ]
  },
  {
   "cell_type": "code",
   "execution_count": 10,
   "id": "cb627fa2",
   "metadata": {},
   "outputs": [
    {
     "name": "stdout",
     "output_type": "stream",
     "text": [
      "Cientista de dados é uma profissão que tem crescido muito.\n",
      "Esses profissionais precisam se especializar em programação, estatística e machine learning.\n"
     ]
    }
   ],
   "source": [
    "arquivo = open('Files/cientista.txt', 'r')\n",
    "conteudo = arquivo.read()\n",
    "arquivo.close()\n",
    "print(conteudo)"
   ]
  },
  {
   "cell_type": "markdown",
   "id": "460716d7",
   "metadata": {},
   "source": [
    "# Manipulando arquivos CSV"
   ]
  },
  {
   "cell_type": "code",
   "execution_count": 11,
   "id": "ee8a77ab",
   "metadata": {},
   "outputs": [],
   "source": [
    "import csv\n",
    "\n",
    "with open('Files/numeros.csv', 'w', newline='') as arq:\n",
    "    writer = csv.writer(arq)\n",
    "    writer.writerow(('primeira', 'segunda', 'terceira'))\n",
    "    writer.writerow((49, 78, 42))\n",
    "    writer.writerow((81, 63, 33))\n",
    "    writer.writerow((96, 28, 52))\n",
    "    "
   ]
  },
  {
   "cell_type": "code",
   "execution_count": 12,
   "id": "bde33659",
   "metadata": {},
   "outputs": [
    {
     "name": "stdout",
     "output_type": "stream",
     "text": [
      "primeira,segunda,terceira\n",
      "49,78,42\n",
      "81,63,33\n",
      "96,28,52\n",
      "\n"
     ]
    }
   ],
   "source": [
    "with open('Files/numeros.csv', 'r') as arq:\n",
    "    conteudo = arq.read()\n",
    "    \n",
    "print(conteudo)"
   ]
  },
  {
   "cell_type": "code",
   "execution_count": 13,
   "id": "e2295d70",
   "metadata": {},
   "outputs": [
    {
     "name": "stdout",
     "output_type": "stream",
     "text": [
      "[['primeira', 'segunda', 'terceira'], ['49', '78', '42'], ['81', '63', '33'], ['96', '28', '52']]\n"
     ]
    }
   ],
   "source": [
    "with open('Files/numeros.csv', 'r') as arq:\n",
    "    leitor = csv.reader(arq)\n",
    "    dados = list(leitor)\n",
    "\n",
    "print(dados)"
   ]
  },
  {
   "cell_type": "code",
   "execution_count": 14,
   "id": "80266365",
   "metadata": {},
   "outputs": [
    {
     "name": "stdout",
     "output_type": "stream",
     "text": [
      "['81', '63', '33']\n",
      "['96', '28', '52']\n"
     ]
    }
   ],
   "source": [
    "for linha in dados[2:]:\n",
    "    print(linha)"
   ]
  },
  {
   "cell_type": "markdown",
   "id": "00c97906",
   "metadata": {},
   "source": [
    "# Manipulando arquivos JSON"
   ]
  },
  {
   "cell_type": "code",
   "execution_count": 15,
   "id": "9b178887",
   "metadata": {},
   "outputs": [],
   "source": [
    "dict = {'nome': 'Guido van Rossum',\n",
    "       'linguagem': 'Python',\n",
    "       'similar': ['c', 'Modula-3', 'lisp'],\n",
    "       'users': 1000000}"
   ]
  },
  {
   "cell_type": "code",
   "execution_count": 16,
   "id": "ddf618c1",
   "metadata": {},
   "outputs": [
    {
     "name": "stdout",
     "output_type": "stream",
     "text": [
      "nome Guido van Rossum\n",
      "linguagem Python\n",
      "similar ['c', 'Modula-3', 'lisp']\n",
      "users 1000000\n"
     ]
    }
   ],
   "source": [
    "for k,v in dict.items():\n",
    "    print(k,v)"
   ]
  },
  {
   "cell_type": "code",
   "execution_count": 17,
   "id": "07e1c76d",
   "metadata": {},
   "outputs": [
    {
     "data": {
      "text/plain": [
       "'{\"nome\": \"Guido van Rossum\", \"linguagem\": \"Python\", \"similar\": [\"c\", \"Modula-3\", \"lisp\"], \"users\": 1000000}'"
      ]
     },
     "execution_count": 17,
     "metadata": {},
     "output_type": "execute_result"
    }
   ],
   "source": [
    "import json\n",
    "\n",
    "# converte dicionário para um objeto json\n",
    "json.dumps(dict)"
   ]
  },
  {
   "cell_type": "code",
   "execution_count": 18,
   "id": "fbfa1796",
   "metadata": {},
   "outputs": [],
   "source": [
    "with open('Files/dados.json', 'w') as arq:\n",
    "    arq.write(json.dumps(dict))"
   ]
  },
  {
   "cell_type": "code",
   "execution_count": 19,
   "id": "aac5088b",
   "metadata": {},
   "outputs": [],
   "source": [
    "with open('Files/dados.json', 'r') as arq:\n",
    "    texto = arq.read()\n",
    "    data = json.loads(texto)"
   ]
  },
  {
   "cell_type": "code",
   "execution_count": 20,
   "id": "1cc049e6",
   "metadata": {},
   "outputs": [
    {
     "name": "stdout",
     "output_type": "stream",
     "text": [
      "{'nome': 'Guido van Rossum', 'linguagem': 'Python', 'similar': ['c', 'Modula-3', 'lisp'], 'users': 1000000}\n"
     ]
    }
   ],
   "source": [
    "print(data)"
   ]
  },
  {
   "cell_type": "code",
   "execution_count": 21,
   "id": "b2656949",
   "metadata": {},
   "outputs": [
    {
     "name": "stdout",
     "output_type": "stream",
     "text": [
      "Guido van Rossum\n"
     ]
    }
   ],
   "source": [
    "print(data['nome'])"
   ]
  },
  {
   "cell_type": "code",
   "execution_count": 22,
   "id": "16bda542",
   "metadata": {},
   "outputs": [],
   "source": [
    "# Imprime um arquivo Json copiado da internet\n",
    "\n",
    "from urllib.request import urlopen\n",
    "\n",
    "response = urlopen(\"http://vimeo.com/api/v2/video/57733101.json\").read().decode('utf8')\n",
    "data = json.loads(response)[0]"
   ]
  },
  {
   "cell_type": "code",
   "execution_count": 23,
   "id": "8333ac3b",
   "metadata": {},
   "outputs": [
    {
     "name": "stdout",
     "output_type": "stream",
     "text": [
      "The Good Man trailer\n",
      "https://vimeo.com/57733101\n",
      "143\n",
      "6509\n"
     ]
    }
   ],
   "source": [
    "print(data['title'])\n",
    "print(data['url'])\n",
    "print(data['duration'])\n",
    "print(data['stats_number_of_plays'])"
   ]
  },
  {
   "cell_type": "code",
   "execution_count": 24,
   "id": "454d7dec",
   "metadata": {},
   "outputs": [],
   "source": [
    "# Copiando o conteúdo de um arquivo para outro\n",
    "\n",
    "arq_fonte = 'Files/dados.json'\n",
    "arq_destino = 'Files/json_data.txt'"
   ]
  },
  {
   "cell_type": "code",
   "execution_count": 25,
   "id": "afb9a459",
   "metadata": {},
   "outputs": [],
   "source": [
    "with open(arq_fonte, 'r') as fonte:\n",
    "    texto = fonte.read()\n",
    "    with open(arq_destino, 'w') as dest:\n",
    "        dest.write(texto)"
   ]
  },
  {
   "cell_type": "code",
   "execution_count": 26,
   "id": "e3aec9df",
   "metadata": {},
   "outputs": [],
   "source": [
    "with open('Files/json_data.txt', 'r') as arq:\n",
    "    texto = arq.read()\n",
    "    data = json.loads(texto)"
   ]
  },
  {
   "cell_type": "code",
   "execution_count": 27,
   "id": "d0f1fff2",
   "metadata": {},
   "outputs": [
    {
     "name": "stdout",
     "output_type": "stream",
     "text": [
      "{'nome': 'Guido van Rossum', 'linguagem': 'Python', 'similar': ['c', 'Modula-3', 'lisp'], 'users': 1000000}\n"
     ]
    }
   ],
   "source": [
    "print(data)"
   ]
  }
 ],
 "metadata": {
  "kernelspec": {
   "display_name": "Python 3 (ipykernel)",
   "language": "python",
   "name": "python3"
  },
  "language_info": {
   "codemirror_mode": {
    "name": "ipython",
    "version": 3
   },
   "file_extension": ".py",
   "mimetype": "text/x-python",
   "name": "python",
   "nbconvert_exporter": "python",
   "pygments_lexer": "ipython3",
   "version": "3.9.12"
  }
 },
 "nbformat": 4,
 "nbformat_minor": 5
}
