{
 "cells": [
  {
   "cell_type": "markdown",
   "id": "5855e5b8",
   "metadata": {},
   "source": [
    "# Exercícios"
   ]
  },
  {
   "cell_type": "code",
   "execution_count": null,
   "id": "285fccbc",
   "metadata": {},
   "outputs": [],
   "source": [
    "# Exercício 1 - Imprima na tela os números de 1 a 10. Use uma lista para armazenar os números."
   ]
  },
  {
   "cell_type": "code",
   "execution_count": 1,
   "id": "6717eccf",
   "metadata": {},
   "outputs": [
    {
     "name": "stdout",
     "output_type": "stream",
     "text": [
      "1\n",
      "2\n",
      "3\n",
      "4\n",
      "5\n",
      "6\n",
      "7\n",
      "8\n",
      "9\n",
      "10\n"
     ]
    }
   ],
   "source": [
    "numeros = [1,2,3,4,5,6,7,8,9,10]\n",
    "\n",
    "for n in numeros:\n",
    "    print(numeros[n-1])"
   ]
  },
  {
   "cell_type": "code",
   "execution_count": null,
   "id": "4eb114b5",
   "metadata": {},
   "outputs": [],
   "source": [
    "# Exercício 2 - Crie uma lista de 5 objetos e imprima na tela."
   ]
  },
  {
   "cell_type": "code",
   "execution_count": 2,
   "id": "4e337d4c",
   "metadata": {},
   "outputs": [
    {
     "name": "stdout",
     "output_type": "stream",
     "text": [
      "['copo', 'garfo', 'colher', 'prato', 'faca']\n",
      "['copo', 'garfo', 'colher', 'prato', 'faca']\n",
      "['copo', 'garfo', 'colher', 'prato', 'faca']\n",
      "['copo', 'garfo', 'colher', 'prato', 'faca']\n",
      "['copo', 'garfo', 'colher', 'prato', 'faca']\n"
     ]
    }
   ],
   "source": [
    "objetos = ['copo', 'garfo', 'colher', 'prato', 'faca']\n",
    "\n",
    "for objeto in objetos:\n",
    "    print(objetos[0:5])"
   ]
  },
  {
   "cell_type": "code",
   "execution_count": null,
   "id": "b46b704b",
   "metadata": {},
   "outputs": [],
   "source": [
    "# Exercício 3 - Crie duas strings e concatene as duas em uma terceira string."
   ]
  },
  {
   "cell_type": "code",
   "execution_count": 3,
   "id": "7e351d2f",
   "metadata": {},
   "outputs": [
    {
     "name": "stdout",
     "output_type": "stream",
     "text": [
      "Olá, tudo bem?\n"
     ]
    }
   ],
   "source": [
    "string1 = \"Olá\"\n",
    "string2 = \"tudo bem?\"\n",
    "string3 = string1 + \", \" + string2\n",
    "print(string3)"
   ]
  },
  {
   "cell_type": "code",
   "execution_count": null,
   "id": "e6899a59",
   "metadata": {},
   "outputs": [],
   "source": [
    "# Exercício 4 - Crie uma tupla com os seguintes elementos: 1, 2, 2, 3, 4, 4, 4, 5 e depois utilize a \n",
    "# função count do objeto tupla para verificar quantas vezes o número 4 aparece na tupla."
   ]
  },
  {
   "cell_type": "code",
   "execution_count": 4,
   "id": "860c1200",
   "metadata": {},
   "outputs": [
    {
     "name": "stdout",
     "output_type": "stream",
     "text": [
      "3\n"
     ]
    }
   ],
   "source": [
    "tupla = (1, 2, 2, 3, 4, 4, 4, 5)\n",
    "x = tupla.count(4)\n",
    "print(x)"
   ]
  },
  {
   "cell_type": "code",
   "execution_count": null,
   "id": "3772c5ae",
   "metadata": {},
   "outputs": [],
   "source": [
    "# Exercício 5 - Crie um dicionário vazio e imprima na tela."
   ]
  },
  {
   "cell_type": "code",
   "execution_count": 5,
   "id": "d0a47da4",
   "metadata": {},
   "outputs": [
    {
     "name": "stdout",
     "output_type": "stream",
     "text": [
      "{}\n"
     ]
    }
   ],
   "source": [
    "dic = {}\n",
    "print(dic)"
   ]
  },
  {
   "cell_type": "code",
   "execution_count": null,
   "id": "0e778be4",
   "metadata": {},
   "outputs": [],
   "source": [
    "# Exercício 6 - Crie um dicionário com 3 chaves e 3 valores e imprima na tela."
   ]
  },
  {
   "cell_type": "code",
   "execution_count": 6,
   "id": "7fddeee4",
   "metadata": {},
   "outputs": [
    {
     "name": "stdout",
     "output_type": "stream",
     "text": [
      "{'São Paulo': 12000000, 'São José dos Campos': 750000, 'Campinas': 1200000}\n"
     ]
    }
   ],
   "source": [
    "cidades = {'São Paulo': 12000000, 'São José dos Campos': 750000, 'Campinas': 1200000}\n",
    "print(cidades)"
   ]
  },
  {
   "cell_type": "code",
   "execution_count": null,
   "id": "89861142",
   "metadata": {},
   "outputs": [],
   "source": [
    "# Exercício 7 - Adicione mais um elemento ao dicionário criado no exercício anterior e imprima na tela."
   ]
  },
  {
   "cell_type": "code",
   "execution_count": 7,
   "id": "992f1e30",
   "metadata": {},
   "outputs": [
    {
     "name": "stdout",
     "output_type": "stream",
     "text": [
      "{'São Paulo': 12000000, 'São José dos Campos': 750000, 'Campinas': 1200000, 'Sorocaba': 700000}\n"
     ]
    }
   ],
   "source": [
    "cidades['Sorocaba'] = 700000\n",
    "print(cidades)"
   ]
  },
  {
   "cell_type": "code",
   "execution_count": null,
   "id": "3cc5d515",
   "metadata": {},
   "outputs": [],
   "source": [
    "# Exercício 8 - Crie um dicionário com 3 chaves e 3 valores. Um dos valores deve ser uma lista de 2 elementos numéricos. \n",
    "# Imprima o dicionário na tela."
   ]
  },
  {
   "cell_type": "code",
   "execution_count": 8,
   "id": "d8dcb7f9",
   "metadata": {},
   "outputs": [
    {
     "name": "stdout",
     "output_type": "stream",
     "text": [
      "{'a': 1, 'b': [1, 2], 'c': 1}\n"
     ]
    }
   ],
   "source": [
    "dic1 = {'a': 1, 'b':[1, 2], 'c': 1}\n",
    "print(dic1)"
   ]
  },
  {
   "cell_type": "code",
   "execution_count": null,
   "id": "d403764b",
   "metadata": {},
   "outputs": [],
   "source": [
    "# Exercício 9 - Crie uma lista de 4 elementos. \n",
    "# O primeiro elemento deve ser uma string. O segundo uma tupla de 2 elementos. \n",
    "# O terceiro um dicionário com 2 chaves e 2 valores. O quarto elemento um valor do tipo float.\n",
    "# Imprima a lista na tela."
   ]
  },
  {
   "cell_type": "code",
   "execution_count": 9,
   "id": "99d5bb48",
   "metadata": {},
   "outputs": [
    {
     "name": "stdout",
     "output_type": "stream",
     "text": [
      "['abc', (1, 2), {'a': 1, 'b': 2}, 2.457]\n"
     ]
    }
   ],
   "source": [
    "lista = ['abc', (1, 2), {'a': 1, 'b': 2}, 2.457]\n",
    "print(lista)"
   ]
  },
  {
   "cell_type": "code",
   "execution_count": null,
   "id": "5f3454e8",
   "metadata": {},
   "outputs": [],
   "source": [
    "# Exercício 10 - Considere a string abaixo. Imprima na tela apenas os caracteres da posição 1 a 18.\n",
    "# Frase = 'Cientista de Dados é o profissional mais sexy do século XXI'"
   ]
  },
  {
   "cell_type": "code",
   "execution_count": 10,
   "id": "35ba006b",
   "metadata": {},
   "outputs": [
    {
     "name": "stdout",
     "output_type": "stream",
     "text": [
      "Cientista de Dados\n"
     ]
    }
   ],
   "source": [
    "frase = 'Cientista de Dados é o profissional mais sexy do século XXI'\n",
    "print(frase[0:18])"
   ]
  },
  {
   "cell_type": "code",
   "execution_count": null,
   "id": "f185cd2a",
   "metadata": {},
   "outputs": [],
   "source": [
    "# Obs: Antes de achar que o resultado acima está errado, reflita junto comigo:\n",
    "# Em uma corrida ou maratona quem sobre ao podium? Aqueles que ficam nas posições 1, 2 e 3, certo? Existe posição zero? Não! Pois bem!\n",
    "# O exercício acima pede os caracteres nas posições de 1 a 18 (não existe posição zero). Em Python, a indexação (que representa o índice) começa por zero. Logo, posições de 1 a 18 estão nos índices de 0 a 18 (pois 18 é exclusivo e portanto temos de 0 a 17, logo 18 posições)."
   ]
  }
 ],
 "metadata": {
  "kernelspec": {
   "display_name": "Python 3 (ipykernel)",
   "language": "python",
   "name": "python3"
  },
  "language_info": {
   "codemirror_mode": {
    "name": "ipython",
    "version": 3
   },
   "file_extension": ".py",
   "mimetype": "text/x-python",
   "name": "python",
   "nbconvert_exporter": "python",
   "pygments_lexer": "ipython3",
   "version": "3.9.12"
  }
 },
 "nbformat": 4,
 "nbformat_minor": 5
}
