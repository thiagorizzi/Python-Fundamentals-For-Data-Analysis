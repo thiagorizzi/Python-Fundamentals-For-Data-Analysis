{
 "cells": [
  {
   "cell_type": "markdown",
   "id": "c40851b7",
   "metadata": {},
   "source": [
    "# Exercícios - POO"
   ]
  },
  {
   "cell_type": "code",
   "execution_count": 1,
   "id": "5a34fa89",
   "metadata": {},
   "outputs": [
    {
     "name": "stdout",
     "output_type": "stream",
     "text": [
      "4 6\n"
     ]
    }
   ],
   "source": [
    "# Ex1 - Crie um objeto a partir da classe abaixo, chamado roc1, passando 2 parâmetros e depois faça uma chamada\n",
    "# aos atributos e métodos\n",
    "from math import sqrt\n",
    "\n",
    "class Rocket():\n",
    "     \n",
    "    def __init__(self, x=0, y=0):\n",
    "        self.x = x\n",
    "        self.y = y\n",
    "        \n",
    "    def move_rocket(self, x_increment=0, y_increment=1):\n",
    "        self.x += x_increment\n",
    "        self.y += y_increment\n",
    "        \n",
    "    def print_rocket(self):\n",
    "        print(self.x, self.y)\n",
    "        \n",
    "roc1 = Rocket(2, 3)\n",
    "roc1.move_rocket(roc1.x, roc1.y)\n",
    "roc1.print_rocket()"
   ]
  },
  {
   "cell_type": "code",
   "execution_count": 2,
   "id": "39e3a27e",
   "metadata": {},
   "outputs": [
    {
     "data": {
      "text/plain": [
       "'Thiago mora na cidade: São José dos Campos!'"
      ]
     },
     "execution_count": 2,
     "metadata": {},
     "output_type": "execute_result"
    }
   ],
   "source": [
    "# Ex2 - Crie uma classe chamada Pessoa() com os atributos: nome, cidade, telefone e e-mail. Use pelo menos 2\n",
    "# métodos especiais na sua classe. Crie um objeto da sua classe e faça uma chamada a pelo menos um dos seus métodos\n",
    "# especiais.\n",
    "\n",
    "class Pessoa():\n",
    "    def __init__(self, name, city, phone, email):\n",
    "        self.name = name\n",
    "        self.city = city\n",
    "        self.phone = phone\n",
    "        self.email = email\n",
    "        \n",
    "    def __str__(self):\n",
    "        return f\"{self.name} mora na cidade: {self.city}!\"\n",
    "\n",
    "p = Pessoa('Thiago', 'São José dos Campos', \n",
    "           '000-000', 'thiagorizzi97@gmail.com')\n",
    "str(p)\n"
   ]
  },
  {
   "cell_type": "code",
   "execution_count": 3,
   "id": "e9008f8a",
   "metadata": {},
   "outputs": [
    {
     "data": {
      "text/plain": [
       "'tamanho:5 interface:led capacidade:240GB'"
      ]
     },
     "execution_count": 3,
     "metadata": {},
     "output_type": "execute_result"
    }
   ],
   "source": [
    "# Ex3 - Crie a classe Smartphone com 2 atributos, tamanho e interface e crie a classe MP3Player com os \n",
    "# atributos capacidade. A classe MP3player deve herdar os atributos da classe Smartphone.\n",
    "\n",
    "class Smarthphone():\n",
    "    def __init__(self, tamanho, interface):\n",
    "        self.tamanho = tamanho\n",
    "        self.interface = interface\n",
    "\n",
    "class MP3Player(Smarthphone):\n",
    "    def __init__(self, tamanho, interface, capacidade):\n",
    "        super().__init__(tamanho, interface)\n",
    "        self.capacidade = capacidade\n",
    "        \n",
    "    def print_MP3Player(self):\n",
    "        return f\"tamanho:{self.tamanho} interface:{self.interface} capacidade:{self.capacidade}\"\n",
    "        \n",
    "        \n",
    "\n",
    "ob1 = MP3Player(5, 'led', '240GB')\n",
    "ob1.print_MP3Player()"
   ]
  }
 ],
 "metadata": {
  "kernelspec": {
   "display_name": "Python 3 (ipykernel)",
   "language": "python",
   "name": "python3"
  },
  "language_info": {
   "codemirror_mode": {
    "name": "ipython",
    "version": 3
   },
   "file_extension": ".py",
   "mimetype": "text/x-python",
   "name": "python",
   "nbconvert_exporter": "python",
   "pygments_lexer": "ipython3",
   "version": "3.9.12"
  }
 },
 "nbformat": 4,
 "nbformat_minor": 5
}
